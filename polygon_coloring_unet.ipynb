{
  "cells": [
    {
      "cell_type": "code",
      "source": [
        "from google.colab import files\n",
        "uploaded = files.upload()"
      ],
      "metadata": {
        "colab": {
          "base_uri": "https://localhost:8080/",
          "height": 71
        },
        "id": "dIjjgRs8Z-eN",
        "outputId": "00b7ab6e-0a56-4ff1-f137-107545bc7444"
      },
      "execution_count": 1,
      "outputs": [
        {
          "output_type": "display_data",
          "data": {
            "text/plain": [
              "<IPython.core.display.HTML object>"
            ],
            "text/html": [
              "\n",
              "     <input type=\"file\" id=\"files-f60a1dc6-8fa3-434b-9fa5-750129042bd5\" name=\"files[]\" multiple disabled\n",
              "        style=\"border:none\" />\n",
              "     <output id=\"result-f60a1dc6-8fa3-434b-9fa5-750129042bd5\">\n",
              "      Upload widget is only available when the cell has been executed in the\n",
              "      current browser session. Please rerun this cell to enable.\n",
              "      </output>\n",
              "      <script>// Copyright 2017 Google LLC\n",
              "//\n",
              "// Licensed under the Apache License, Version 2.0 (the \"License\");\n",
              "// you may not use this file except in compliance with the License.\n",
              "// You may obtain a copy of the License at\n",
              "//\n",
              "//      http://www.apache.org/licenses/LICENSE-2.0\n",
              "//\n",
              "// Unless required by applicable law or agreed to in writing, software\n",
              "// distributed under the License is distributed on an \"AS IS\" BASIS,\n",
              "// WITHOUT WARRANTIES OR CONDITIONS OF ANY KIND, either express or implied.\n",
              "// See the License for the specific language governing permissions and\n",
              "// limitations under the License.\n",
              "\n",
              "/**\n",
              " * @fileoverview Helpers for google.colab Python module.\n",
              " */\n",
              "(function(scope) {\n",
              "function span(text, styleAttributes = {}) {\n",
              "  const element = document.createElement('span');\n",
              "  element.textContent = text;\n",
              "  for (const key of Object.keys(styleAttributes)) {\n",
              "    element.style[key] = styleAttributes[key];\n",
              "  }\n",
              "  return element;\n",
              "}\n",
              "\n",
              "// Max number of bytes which will be uploaded at a time.\n",
              "const MAX_PAYLOAD_SIZE = 100 * 1024;\n",
              "\n",
              "function _uploadFiles(inputId, outputId) {\n",
              "  const steps = uploadFilesStep(inputId, outputId);\n",
              "  const outputElement = document.getElementById(outputId);\n",
              "  // Cache steps on the outputElement to make it available for the next call\n",
              "  // to uploadFilesContinue from Python.\n",
              "  outputElement.steps = steps;\n",
              "\n",
              "  return _uploadFilesContinue(outputId);\n",
              "}\n",
              "\n",
              "// This is roughly an async generator (not supported in the browser yet),\n",
              "// where there are multiple asynchronous steps and the Python side is going\n",
              "// to poll for completion of each step.\n",
              "// This uses a Promise to block the python side on completion of each step,\n",
              "// then passes the result of the previous step as the input to the next step.\n",
              "function _uploadFilesContinue(outputId) {\n",
              "  const outputElement = document.getElementById(outputId);\n",
              "  const steps = outputElement.steps;\n",
              "\n",
              "  const next = steps.next(outputElement.lastPromiseValue);\n",
              "  return Promise.resolve(next.value.promise).then((value) => {\n",
              "    // Cache the last promise value to make it available to the next\n",
              "    // step of the generator.\n",
              "    outputElement.lastPromiseValue = value;\n",
              "    return next.value.response;\n",
              "  });\n",
              "}\n",
              "\n",
              "/**\n",
              " * Generator function which is called between each async step of the upload\n",
              " * process.\n",
              " * @param {string} inputId Element ID of the input file picker element.\n",
              " * @param {string} outputId Element ID of the output display.\n",
              " * @return {!Iterable<!Object>} Iterable of next steps.\n",
              " */\n",
              "function* uploadFilesStep(inputId, outputId) {\n",
              "  const inputElement = document.getElementById(inputId);\n",
              "  inputElement.disabled = false;\n",
              "\n",
              "  const outputElement = document.getElementById(outputId);\n",
              "  outputElement.innerHTML = '';\n",
              "\n",
              "  const pickedPromise = new Promise((resolve) => {\n",
              "    inputElement.addEventListener('change', (e) => {\n",
              "      resolve(e.target.files);\n",
              "    });\n",
              "  });\n",
              "\n",
              "  const cancel = document.createElement('button');\n",
              "  inputElement.parentElement.appendChild(cancel);\n",
              "  cancel.textContent = 'Cancel upload';\n",
              "  const cancelPromise = new Promise((resolve) => {\n",
              "    cancel.onclick = () => {\n",
              "      resolve(null);\n",
              "    };\n",
              "  });\n",
              "\n",
              "  // Wait for the user to pick the files.\n",
              "  const files = yield {\n",
              "    promise: Promise.race([pickedPromise, cancelPromise]),\n",
              "    response: {\n",
              "      action: 'starting',\n",
              "    }\n",
              "  };\n",
              "\n",
              "  cancel.remove();\n",
              "\n",
              "  // Disable the input element since further picks are not allowed.\n",
              "  inputElement.disabled = true;\n",
              "\n",
              "  if (!files) {\n",
              "    return {\n",
              "      response: {\n",
              "        action: 'complete',\n",
              "      }\n",
              "    };\n",
              "  }\n",
              "\n",
              "  for (const file of files) {\n",
              "    const li = document.createElement('li');\n",
              "    li.append(span(file.name, {fontWeight: 'bold'}));\n",
              "    li.append(span(\n",
              "        `(${file.type || 'n/a'}) - ${file.size} bytes, ` +\n",
              "        `last modified: ${\n",
              "            file.lastModifiedDate ? file.lastModifiedDate.toLocaleDateString() :\n",
              "                                    'n/a'} - `));\n",
              "    const percent = span('0% done');\n",
              "    li.appendChild(percent);\n",
              "\n",
              "    outputElement.appendChild(li);\n",
              "\n",
              "    const fileDataPromise = new Promise((resolve) => {\n",
              "      const reader = new FileReader();\n",
              "      reader.onload = (e) => {\n",
              "        resolve(e.target.result);\n",
              "      };\n",
              "      reader.readAsArrayBuffer(file);\n",
              "    });\n",
              "    // Wait for the data to be ready.\n",
              "    let fileData = yield {\n",
              "      promise: fileDataPromise,\n",
              "      response: {\n",
              "        action: 'continue',\n",
              "      }\n",
              "    };\n",
              "\n",
              "    // Use a chunked sending to avoid message size limits. See b/62115660.\n",
              "    let position = 0;\n",
              "    do {\n",
              "      const length = Math.min(fileData.byteLength - position, MAX_PAYLOAD_SIZE);\n",
              "      const chunk = new Uint8Array(fileData, position, length);\n",
              "      position += length;\n",
              "\n",
              "      const base64 = btoa(String.fromCharCode.apply(null, chunk));\n",
              "      yield {\n",
              "        response: {\n",
              "          action: 'append',\n",
              "          file: file.name,\n",
              "          data: base64,\n",
              "        },\n",
              "      };\n",
              "\n",
              "      let percentDone = fileData.byteLength === 0 ?\n",
              "          100 :\n",
              "          Math.round((position / fileData.byteLength) * 100);\n",
              "      percent.textContent = `${percentDone}% done`;\n",
              "\n",
              "    } while (position < fileData.byteLength);\n",
              "  }\n",
              "\n",
              "  // All done.\n",
              "  yield {\n",
              "    response: {\n",
              "      action: 'complete',\n",
              "    }\n",
              "  };\n",
              "}\n",
              "\n",
              "scope.google = scope.google || {};\n",
              "scope.google.colab = scope.google.colab || {};\n",
              "scope.google.colab._files = {\n",
              "  _uploadFiles,\n",
              "  _uploadFilesContinue,\n",
              "};\n",
              "})(self);\n",
              "</script> "
            ]
          },
          "metadata": {}
        },
        {
          "output_type": "stream",
          "name": "stdout",
          "text": [
            "Saving dataset.zip to dataset.zip\n"
          ]
        }
      ]
    },
    {
      "cell_type": "code",
      "source": [
        "import zipfile\n",
        "\n",
        "with zipfile.ZipFile(\"dataset.zip\", 'r') as zip_ref:\n",
        "    zip_ref.extractall(\"dataset\")"
      ],
      "metadata": {
        "id": "05067UA6aAHs"
      },
      "execution_count": 2,
      "outputs": []
    },
    {
      "cell_type": "code",
      "source": [
        "import wandb\n",
        "wandb.login()"
      ],
      "metadata": {
        "colab": {
          "base_uri": "https://localhost:8080/",
          "height": 191
        },
        "id": "hA2caIEFbpKx",
        "outputId": "389ab4c5-179b-4f90-81ba-45d9c1da87a8"
      },
      "execution_count": 3,
      "outputs": [
        {
          "output_type": "display_data",
          "data": {
            "text/plain": [
              "<IPython.core.display.Javascript object>"
            ],
            "application/javascript": [
              "\n",
              "        window._wandbApiKey = new Promise((resolve, reject) => {\n",
              "            function loadScript(url) {\n",
              "            return new Promise(function(resolve, reject) {\n",
              "                let newScript = document.createElement(\"script\");\n",
              "                newScript.onerror = reject;\n",
              "                newScript.onload = resolve;\n",
              "                document.body.appendChild(newScript);\n",
              "                newScript.src = url;\n",
              "            });\n",
              "            }\n",
              "            loadScript(\"https://cdn.jsdelivr.net/npm/postmate/build/postmate.min.js\").then(() => {\n",
              "            const iframe = document.createElement('iframe')\n",
              "            iframe.style.cssText = \"width:0;height:0;border:none\"\n",
              "            document.body.appendChild(iframe)\n",
              "            const handshake = new Postmate({\n",
              "                container: iframe,\n",
              "                url: 'https://wandb.ai/authorize'\n",
              "            });\n",
              "            const timeout = setTimeout(() => reject(\"Couldn't auto authenticate\"), 5000)\n",
              "            handshake.then(function(child) {\n",
              "                child.on('authorize', data => {\n",
              "                    clearTimeout(timeout)\n",
              "                    resolve(data)\n",
              "                });\n",
              "            });\n",
              "            })\n",
              "        });\n",
              "    "
            ]
          },
          "metadata": {}
        },
        {
          "output_type": "stream",
          "name": "stderr",
          "text": [
            "\u001b[34m\u001b[1mwandb\u001b[0m: Logging into wandb.ai. (Learn how to deploy a W&B server locally: https://wandb.me/wandb-server)\n",
            "\u001b[34m\u001b[1mwandb\u001b[0m: You can find your API key in your browser here: https://wandb.ai/authorize\n",
            "wandb: Paste an API key from your profile and hit enter:"
          ]
        },
        {
          "name": "stdout",
          "output_type": "stream",
          "text": [
            " ··········\n"
          ]
        },
        {
          "output_type": "stream",
          "name": "stderr",
          "text": [
            "\u001b[34m\u001b[1mwandb\u001b[0m: \u001b[33mWARNING\u001b[0m If you're specifying your api key in code, ensure this code is not shared publicly.\n",
            "\u001b[34m\u001b[1mwandb\u001b[0m: \u001b[33mWARNING\u001b[0m Consider setting the WANDB_API_KEY environment variable, or running `wandb login` from the command line.\n",
            "\u001b[34m\u001b[1mwandb\u001b[0m: No netrc file found, creating one.\n",
            "\u001b[34m\u001b[1mwandb\u001b[0m: Appending key for api.wandb.ai to your netrc file: /root/.netrc\n",
            "\u001b[34m\u001b[1mwandb\u001b[0m: Currently logged in as: \u001b[33mafreenasif07\u001b[0m (\u001b[33mafreenasif07-brindavan-college\u001b[0m) to \u001b[32mhttps://api.wandb.ai\u001b[0m. Use \u001b[1m`wandb login --relogin`\u001b[0m to force relogin\n"
          ]
        },
        {
          "output_type": "execute_result",
          "data": {
            "text/plain": [
              "True"
            ]
          },
          "metadata": {},
          "execution_count": 3
        }
      ]
    },
    {
      "cell_type": "code",
      "source": [
        "wandb.init(project=\"polygon-coloring-unet\", name=\"unet-color-by-name\", config={\n",
        "    \"epochs\": 50,\n",
        "    \"batch_size\": 8,\n",
        "    \"learning_rate\": 0.001,\n",
        "    \"architecture\": \"UNet\",\n",
        "    \"optimizer\": \"Adam\",\n",
        "    \"loss_function\": \"MSELoss\"\n",
        "})"
      ],
      "metadata": {
        "colab": {
          "base_uri": "https://localhost:8080/",
          "height": 210
        },
        "id": "CBkcvziudYwH",
        "outputId": "6f16c755-adea-47e4-a61c-0db2ba8c91c4"
      },
      "execution_count": 5,
      "outputs": [
        {
          "output_type": "display_data",
          "data": {
            "text/plain": [
              "<IPython.core.display.HTML object>"
            ],
            "text/html": [
              "Finishing previous runs because reinit is set to 'default'."
            ]
          },
          "metadata": {}
        },
        {
          "output_type": "display_data",
          "data": {
            "text/plain": [
              "<IPython.core.display.HTML object>"
            ],
            "text/html": []
          },
          "metadata": {}
        },
        {
          "output_type": "display_data",
          "data": {
            "text/plain": [
              "<IPython.core.display.HTML object>"
            ],
            "text/html": [
              " View run <strong style=\"color:#cdcd00\">unet-color-by-name</strong> at: <a href='https://wandb.ai/afreenasif07-brindavan-college/polygon-coloring-unet/runs/gefrixej' target=\"_blank\">https://wandb.ai/afreenasif07-brindavan-college/polygon-coloring-unet/runs/gefrixej</a><br> View project at: <a href='https://wandb.ai/afreenasif07-brindavan-college/polygon-coloring-unet' target=\"_blank\">https://wandb.ai/afreenasif07-brindavan-college/polygon-coloring-unet</a><br>Synced 5 W&B file(s), 0 media file(s), 0 artifact file(s) and 0 other file(s)"
            ]
          },
          "metadata": {}
        },
        {
          "output_type": "display_data",
          "data": {
            "text/plain": [
              "<IPython.core.display.HTML object>"
            ],
            "text/html": [
              "Find logs at: <code>./wandb/run-20250805_152645-gefrixej/logs</code>"
            ]
          },
          "metadata": {}
        },
        {
          "output_type": "display_data",
          "data": {
            "text/plain": [
              "<IPython.core.display.HTML object>"
            ],
            "text/html": [
              "Tracking run with wandb version 0.21.0"
            ]
          },
          "metadata": {}
        },
        {
          "output_type": "display_data",
          "data": {
            "text/plain": [
              "<IPython.core.display.HTML object>"
            ],
            "text/html": [
              "Run data is saved locally in <code>/content/wandb/run-20250805_152743-2c0dcjv9</code>"
            ]
          },
          "metadata": {}
        },
        {
          "output_type": "display_data",
          "data": {
            "text/plain": [
              "<IPython.core.display.HTML object>"
            ],
            "text/html": [
              "Syncing run <strong><a href='https://wandb.ai/afreenasif07-brindavan-college/polygon-coloring-unet/runs/2c0dcjv9' target=\"_blank\">unet-color-by-name</a></strong> to <a href='https://wandb.ai/afreenasif07-brindavan-college/polygon-coloring-unet' target=\"_blank\">Weights & Biases</a> (<a href='https://wandb.me/developer-guide' target=\"_blank\">docs</a>)<br>"
            ]
          },
          "metadata": {}
        },
        {
          "output_type": "display_data",
          "data": {
            "text/plain": [
              "<IPython.core.display.HTML object>"
            ],
            "text/html": [
              " View project at <a href='https://wandb.ai/afreenasif07-brindavan-college/polygon-coloring-unet' target=\"_blank\">https://wandb.ai/afreenasif07-brindavan-college/polygon-coloring-unet</a>"
            ]
          },
          "metadata": {}
        },
        {
          "output_type": "display_data",
          "data": {
            "text/plain": [
              "<IPython.core.display.HTML object>"
            ],
            "text/html": [
              " View run at <a href='https://wandb.ai/afreenasif07-brindavan-college/polygon-coloring-unet/runs/2c0dcjv9' target=\"_blank\">https://wandb.ai/afreenasif07-brindavan-college/polygon-coloring-unet/runs/2c0dcjv9</a>"
            ]
          },
          "metadata": {}
        },
        {
          "output_type": "execute_result",
          "data": {
            "text/html": [
              "<button onClick=\"this.nextSibling.style.display='block';this.style.display='none';\">Display W&B run</button><iframe src='https://wandb.ai/afreenasif07-brindavan-college/polygon-coloring-unet/runs/2c0dcjv9?jupyter=true' style='border:none;width:100%;height:420px;display:none;'></iframe>"
            ],
            "text/plain": [
              "<wandb.sdk.wandb_run.Run at 0x7c7f0d2bf850>"
            ]
          },
          "metadata": {},
          "execution_count": 5
        }
      ]
    },
    {
      "cell_type": "code",
      "source": [
        "import os\n",
        "print(os.listdir('dataset/dataset/training/inputs'))\n",
        "print(os.listdir('dataset/dataset/training/outputs'))\n",
        "print(os.listdir('dataset/dataset/validation/inputs'))"
      ],
      "metadata": {
        "colab": {
          "base_uri": "https://localhost:8080/"
        },
        "id": "5dmFGEaWaDU-",
        "outputId": "f9b79c80-233f-458d-aea0-7032940c0d76"
      },
      "execution_count": 6,
      "outputs": [
        {
          "output_type": "stream",
          "name": "stdout",
          "text": [
            "['triangle.png', 'pentagon.png', 'octagon.png', 'star.png', 'circle.png', 'diamond.png', 'square.png', 'hexagon.png']\n",
            "['magenta_pentagon.png', 'green_diamond.png', 'green_circle.png', 'green_octagon.png', 'magenta_diamond.png', 'red_octagon.png', 'cyan_octagon.png', 'yellow_pentagon.png', 'cyan_hexagon.png', 'magenta_circle.png', 'yellow_diamond.png', 'blue_square.png', 'purple_pentagon.png', 'blue_pentagon.png', 'cyan_star.png', 'yellow_hexagon.png', 'blue_circle.png', 'red_hexagon.png', 'magenta_triangle.png', 'purple_octagon.png', 'blue_octagon.png', 'blue_hexagon.png', 'orange_triangle.png', 'orange_square.png', 'yellow_triangle.png', 'orange_hexagon.png', 'magenta_octagon.png', 'yellow_circle.png', 'magenta_square.png', 'cyan_circle.png', 'orange_octagon.png', 'purple_hexagon.png', 'purple_triangle.png', 'green_star.png', 'green_square.png', 'red_triangle.png', 'green_hexagon.png', 'orange_circle.png', 'blue_triangle.png', 'orange_pentagon.png', 'blue_diamond.png', 'magenta_hexagon.png', 'red_star.png', 'purple_star.png', 'purple_circle.png', 'red_square.png', 'orange_diamond.png', 'green_pentagon.png', 'red_diamond.png', 'red_pentagon.png', 'cyan_diamond.png', 'purple_square.png', 'yellow_octagon.png', 'purple_diamond.png', 'cyan_triangle.png', 'red_circle.png']\n",
            "['triangle.png', 'octagon.png', 'star.png', 'square.png']\n"
          ]
        }
      ]
    },
    {
      "cell_type": "code",
      "source": [
        "import json\n",
        "with open('dataset/dataset/training/data.json') as f:\n",
        "    train_data = json.load(f)\n",
        "    print(train_data[0].keys())\n",
        "    print(train_data[0])\n",
        "with open('dataset/dataset/validation/data.json') as f:\n",
        "    val_data = json.load(f)"
      ],
      "metadata": {
        "colab": {
          "base_uri": "https://localhost:8080/"
        },
        "id": "OSwBGbyicCIN",
        "outputId": "1a499802-0210-48d8-a673-2c583cc2e37b"
      },
      "execution_count": 7,
      "outputs": [
        {
          "output_type": "stream",
          "name": "stdout",
          "text": [
            "dict_keys(['input_polygon', 'colour', 'output_image'])\n",
            "{'input_polygon': 'octagon.png', 'colour': 'cyan', 'output_image': 'cyan_octagon.png'}\n"
          ]
        }
      ]
    },
    {
      "cell_type": "code",
      "source": [
        "import torch\n",
        "import torch.nn as nn\n",
        "import torch.optim as optim\n",
        "from torch.utils.data import Dataset, DataLoader\n",
        "from PIL import Image\n",
        "import torchvision.transforms as T\n",
        "import webcolors\n",
        "import matplotlib.pyplot as plt"
      ],
      "metadata": {
        "id": "JMcAbr7wqM__"
      },
      "execution_count": 8,
      "outputs": []
    },
    {
      "cell_type": "code",
      "source": [
        "def color_name_to_hex(color_name):\n",
        "    try:\n",
        "        return webcolors.name_to_hex(color_name.strip().lower())\n",
        "    except ValueError:\n",
        "        print(f\"Unknown color: {color_name}\")\n",
        "        return '#000000'"
      ],
      "metadata": {
        "id": "RgR-fxZ-RiDq"
      },
      "execution_count": 9,
      "outputs": []
    },
    {
      "cell_type": "code",
      "source": [
        "class PolygonDataset(Dataset):\n",
        "    def __init__(self, data, root_dir, transform=None):\n",
        "        self.data = data\n",
        "        self.root_dir = root_dir\n",
        "        self.transform = transform\n",
        "\n",
        "    def __len__(self): return len(self.data)\n",
        "\n",
        "    def __getitem__(self, idx):\n",
        "        d = self.data[idx]\n",
        "        x_img = Image.open(os.path.join(self.root_dir, 'inputs', d['input_polygon'])).convert('L')\n",
        "        y_img = Image.open(os.path.join(self.root_dir, 'outputs', d['output_image'])).convert('RGB')\n",
        "\n",
        "        color_hex = color_name_to_hex(d['colour'])\n",
        "        rgb = webcolors.hex_to_rgb(color_hex)\n",
        "        color_tensor = torch.tensor([rgb.red / 255.0, rgb.green / 255.0, rgb.blue / 255.0], dtype=torch.float32)\n",
        "\n",
        "        if self.transform:\n",
        "            x_img = self.transform(x_img)\n",
        "            y_img = self.transform(y_img)\n",
        "\n",
        "        return x_img, color_tensor, y_img, color_hex\n",
        "\n",
        "transform = T.Compose([\n",
        "    T.Resize((128, 128)),\n",
        "    T.ToTensor(),\n",
        "])\n",
        "\n",
        "train_dataset = PolygonDataset(train_data, 'dataset/dataset/training', transform=transform)\n",
        "val_dataset = PolygonDataset(val_data, 'dataset/dataset/validation', transform=transform)\n",
        "train_loader = DataLoader(train_dataset, batch_size=8, shuffle=True)\n",
        "val_loader = DataLoader(val_dataset, batch_size=8, shuffle=False)"
      ],
      "metadata": {
        "id": "I7BJ7dBLRta_"
      },
      "execution_count": 10,
      "outputs": []
    },
    {
      "cell_type": "code",
      "source": [
        "class DoubleConv(nn.Module):\n",
        "    def __init__(self, in_channels, out_channels):\n",
        "        super().__init__()\n",
        "        self.double_conv = nn.Sequential(\n",
        "            nn.Conv2d(in_channels, out_channels, kernel_size=3, padding=1),\n",
        "            nn.BatchNorm2d(out_channels),\n",
        "            nn.ReLU(inplace=True),\n",
        "            nn.Conv2d(out_channels, out_channels, kernel_size=3, padding=1),\n",
        "            nn.BatchNorm2d(out_channels),\n",
        "            nn.ReLU(inplace=True),\n",
        "        )\n",
        "\n",
        "    def forward(self, x):\n",
        "        return self.double_conv(x)\n",
        "\n",
        "class UNet(nn.Module):\n",
        "    def __init__(self, in_channels=4, out_channels=3):\n",
        "        super().__init__()\n",
        "        self.down1 = DoubleConv(in_channels, 128)\n",
        "        self.pool1 = nn.MaxPool2d(2)\n",
        "        self.down2 = DoubleConv(128, 256)\n",
        "        self.pool2 = nn.MaxPool2d(2)\n",
        "        self.bottom = DoubleConv(256, 512)\n",
        "        self.up1 = nn.ConvTranspose2d(512, 256, kernel_size=2, stride=2)\n",
        "        self.upconv1 = DoubleConv(512, 256)\n",
        "        self.up2 = nn.ConvTranspose2d(256, 128, kernel_size=2, stride=2)\n",
        "        self.upconv2 = DoubleConv(256, 128)\n",
        "        self.outc = nn.Conv2d(128, out_channels, kernel_size=1)\n",
        "\n",
        "    def forward(self, x):\n",
        "        x1 = self.down1(x)\n",
        "        x2 = self.down2(self.pool1(x1))\n",
        "        x3 = self.bottom(self.pool2(x2))\n",
        "        x = self.up1(x3)\n",
        "        x = torch.cat([x, x2], dim=1)\n",
        "        x = self.upconv1(x)\n",
        "        x = self.up2(x)\n",
        "        x = torch.cat([x, x1], dim=1)\n",
        "        x = self.upconv2(x)\n",
        "        return torch.sigmoid(self.outc(x))\n",
        "\n",
        "def prepare_batch(img, color, device):\n",
        "    B, _, H, W = img.shape\n",
        "    color_map = color[:, :, None, None].repeat(1, 1, H, W)\n",
        "    return torch.cat([img, color_map], dim=1).to(device)"
      ],
      "metadata": {
        "id": "CDf5m1BVRzih"
      },
      "execution_count": 11,
      "outputs": []
    },
    {
      "cell_type": "code",
      "source": [
        "for epoch in range(50):\n",
        "    model.train()\n",
        "    running_loss = 0\n",
        "    for imgs, colors, targets, color_hexes in train_loader:\n",
        "        imgs, colors, targets = imgs.to(device), colors.to(device), targets.to(device)\n",
        "        inp = prepare_batch(imgs, colors, device)\n",
        "        pred = model(inp)\n",
        "        loss = criterion(pred, targets)\n",
        "        optimizer.zero_grad()\n",
        "        loss.backward()\n",
        "        optimizer.step()\n",
        "        running_loss += loss.item()\n",
        "        wandb.log({\"train_loss\": loss.item(), \"epoch\": epoch})\n",
        "    if (epoch + 1) % 1 == 0:\n",
        "        avg_loss = running_loss / len(train_loader)\n",
        "        print(f\"Epoch {epoch+1} Loss: {running_loss/len(train_loader):.4f}\")\n",
        "        wandb.log({\"epoch\": epoch + 1, \"avg_train_loss\": avg_loss})"
      ],
      "metadata": {
        "colab": {
          "base_uri": "https://localhost:8080/"
        },
        "id": "c5biEuiuZ6BN",
        "outputId": "3c59cf39-eed4-4a62-e423-8c514a5d6336"
      },
      "execution_count": 32,
      "outputs": [
        {
          "output_type": "stream",
          "name": "stdout",
          "text": [
            "Epoch 1 Loss: 0.0116\n",
            "Epoch 2 Loss: 0.0114\n",
            "Epoch 3 Loss: 0.0117\n",
            "Epoch 4 Loss: 0.0119\n",
            "Epoch 5 Loss: 0.0120\n",
            "Epoch 6 Loss: 0.0117\n",
            "Epoch 7 Loss: 0.0122\n",
            "Epoch 8 Loss: 0.0119\n",
            "Epoch 9 Loss: 0.0118\n",
            "Epoch 10 Loss: 0.0138\n",
            "Epoch 11 Loss: 0.0119\n",
            "Epoch 12 Loss: 0.0127\n",
            "Epoch 13 Loss: 0.0115\n",
            "Epoch 14 Loss: 0.0111\n",
            "Epoch 15 Loss: 0.0113\n",
            "Epoch 16 Loss: 0.0107\n",
            "Epoch 17 Loss: 0.0110\n",
            "Epoch 18 Loss: 0.0132\n",
            "Epoch 19 Loss: 0.0140\n",
            "Epoch 20 Loss: 0.0144\n",
            "Epoch 21 Loss: 0.0119\n",
            "Epoch 22 Loss: 0.0108\n",
            "Epoch 23 Loss: 0.0113\n",
            "Epoch 24 Loss: 0.0122\n",
            "Epoch 25 Loss: 0.0113\n",
            "Epoch 26 Loss: 0.0119\n",
            "Epoch 27 Loss: 0.0107\n",
            "Epoch 28 Loss: 0.0112\n",
            "Epoch 29 Loss: 0.0111\n",
            "Epoch 30 Loss: 0.0120\n",
            "Epoch 31 Loss: 0.0115\n",
            "Epoch 32 Loss: 0.0153\n",
            "Epoch 33 Loss: 0.0113\n",
            "Epoch 34 Loss: 0.0153\n",
            "Epoch 35 Loss: 0.0139\n",
            "Epoch 36 Loss: 0.0178\n",
            "Epoch 37 Loss: 0.0160\n",
            "Epoch 38 Loss: 0.0169\n",
            "Epoch 39 Loss: 0.0148\n",
            "Epoch 40 Loss: 0.0135\n",
            "Epoch 41 Loss: 0.0129\n",
            "Epoch 42 Loss: 0.0113\n",
            "Epoch 43 Loss: 0.0113\n",
            "Epoch 44 Loss: 0.0119\n",
            "Epoch 45 Loss: 0.0117\n",
            "Epoch 46 Loss: 0.0104\n",
            "Epoch 47 Loss: 0.0107\n",
            "Epoch 48 Loss: 0.0107\n",
            "Epoch 49 Loss: 0.0110\n",
            "Epoch 50 Loss: 0.0104\n"
          ]
        }
      ]
    },
    {
      "cell_type": "code",
      "source": [
        "model.eval()\n",
        "with torch.no_grad():\n",
        "    for x_img, color_tensor, y_img, color_hex in val_loader:\n",
        "        x_img = x_img.to(device)\n",
        "        y_img = y_img.to(device)\n",
        "        color_tensor = color_tensor.to(device)\n",
        "\n",
        "        inputs = prepare_batch(x_img, color_tensor, device)\n",
        "        preds = model(inputs)\n",
        "\n",
        "        pred_img = preds[0].permute(1, 2, 0).cpu().numpy()\n",
        "        input_img = x_img[0].squeeze().cpu().numpy()\n",
        "        target_img = y_img[0].permute(1, 2, 0).cpu().numpy()\n",
        "\n",
        "        plt.figure(figsize=(12, 4))\n",
        "        plt.subplot(1, 3, 1)\n",
        "        plt.imshow(input_img, cmap='gray')\n",
        "        plt.title('Input Polygon')\n",
        "        plt.subplot(1, 3, 2)\n",
        "        plt.imshow(target_img)\n",
        "        plt.title(f'Target ({color_hex[0]})')\n",
        "        plt.subplot(1, 3, 3)\n",
        "        plt.imshow(pred_img)\n",
        "        plt.title('Predicted Output')\n",
        "        plt.show()\n",
        "        break"
      ],
      "metadata": {
        "colab": {
          "base_uri": "https://localhost:8080/",
          "height": 356
        },
        "id": "Z0_cFJdNR99J",
        "outputId": "f14738a2-b589-4dc2-bcb2-4da74019917a"
      },
      "execution_count": 33,
      "outputs": [
        {
          "output_type": "display_data",
          "data": {
            "text/plain": [
              "<Figure size 1200x400 with 3 Axes>"
            ],
            "image/png": "[encoded data removed]"
          },
          "metadata": {}
        }
      ]
    },
    {
      "cell_type": "code",
      "source": [
        "def inference(model, polygon_path, color_name, transform, device):\n",
        "    model.eval()\n",
        "    with torch.no_grad():\n",
        "        img = Image.open(polygon_path).convert('L')\n",
        "        img = transform(img).unsqueeze(0).to(device)\n",
        "\n",
        "        rgb = webcolors.hex_to_rgb(color_name_to_hex(color_name))\n",
        "        color_tensor = torch.tensor([[rgb.red / 255.0, rgb.green / 255.0, rgb.blue / 255.0]], dtype=torch.float32).to(device)\n",
        "\n",
        "        input_tensor = prepare_batch(img, color_tensor, device)\n",
        "        output = model(input_tensor)\n",
        "\n",
        "        pred_img = output[0].permute(1, 2, 0).cpu().numpy()\n",
        "        return pred_img"
      ],
      "metadata": {
        "id": "gsIV2e9VUei2"
      },
      "execution_count": 34,
      "outputs": []
    },
    {
      "cell_type": "code",
      "source": [
        "example_polygon_path = 'dataset/dataset/validation/inputs/square.png'\n",
        "\n",
        "example_color = 'red'\n",
        "\n",
        "predicted_colored_image = inference(model, example_polygon_path, example_color, transform, device)\n",
        "\n",
        "plt.figure(figsize=(6, 6))\n",
        "plt.imshow(predicted_colored_image)\n",
        "plt.title(f'Predicted Output ({example_color})')\n",
        "plt.axis('off')\n",
        "plt.show()"
      ],
      "metadata": {
        "id": "GRTGmxS5wehz",
        "outputId": "e5514f88-352e-4a7a-e713-9e35d09f344d",
        "colab": {
          "base_uri": "https://localhost:8080/",
          "height": 521
        }
      },
      "execution_count": 35,
      "outputs": [
        {
          "output_type": "display_data",
          "data": {
            "text/plain": [
              "<Figure size 600x600 with 1 Axes>"
            ],
            "image/png": "[encoded data removed]"
          },
          "metadata": {}
        }
      ]
    },
    {
      "cell_type": "code",
      "source": [
        "torch.save(model.state_dict(), 'colored_polygon_unet.pth')"
      ],
      "metadata": {
        "id": "80ITGn-bnpih"
      },
      "execution_count": 36,
      "outputs": []
    }
  ],
  "metadata": {
    "colab": {
      "provenance": [],
      "gpuType": "T4"
    },
    "kernelspec": {
      "display_name": "Python 3",
      "name": "python3"
    },
    "language_info": {
      "name": "python"
    },
    "accelerator": "GPU"
  },
  "nbformat": 4,
  "nbformat_minor": 0
}